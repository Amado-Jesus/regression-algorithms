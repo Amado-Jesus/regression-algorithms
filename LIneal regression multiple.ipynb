{
 "cells": [
  {
   "cell_type": "code",
   "execution_count": 1,
   "id": "c49dd350",
   "metadata": {},
   "outputs": [],
   "source": [
    "import pandas as pd"
   ]
  },
  {
   "cell_type": "code",
   "execution_count": 2,
   "id": "319bd09b",
   "metadata": {},
   "outputs": [
    {
     "data": {
      "text/html": [
       "<div>\n",
       "<style scoped>\n",
       "    .dataframe tbody tr th:only-of-type {\n",
       "        vertical-align: middle;\n",
       "    }\n",
       "\n",
       "    .dataframe tbody tr th {\n",
       "        vertical-align: top;\n",
       "    }\n",
       "\n",
       "    .dataframe thead th {\n",
       "        text-align: right;\n",
       "    }\n",
       "</style>\n",
       "<table border=\"1\" class=\"dataframe\">\n",
       "  <thead>\n",
       "    <tr style=\"text-align: right;\">\n",
       "      <th></th>\n",
       "      <th>Año</th>\n",
       "      <th>Computadora</th>\n",
       "      <th>Internet</th>\n",
       "      <th>Televisión</th>\n",
       "      <th>Cable</th>\n",
       "      <th>Teléfono</th>\n",
       "    </tr>\n",
       "  </thead>\n",
       "  <tbody>\n",
       "    <tr>\n",
       "      <th>0</th>\n",
       "      <td>2001</td>\n",
       "      <td>11.777200</td>\n",
       "      <td>6.212087</td>\n",
       "      <td>91.897078</td>\n",
       "      <td>13.529983</td>\n",
       "      <td>40.331515</td>\n",
       "    </tr>\n",
       "    <tr>\n",
       "      <th>1</th>\n",
       "      <td>2002</td>\n",
       "      <td>15.207573</td>\n",
       "      <td>7.455098</td>\n",
       "      <td>93.592413</td>\n",
       "      <td>15.375804</td>\n",
       "      <td>45.358014</td>\n",
       "    </tr>\n",
       "    <tr>\n",
       "      <th>2</th>\n",
       "      <td>2004</td>\n",
       "      <td>18.001723</td>\n",
       "      <td>8.692415</td>\n",
       "      <td>91.689488</td>\n",
       "      <td>19.330399</td>\n",
       "      <td>24.740764</td>\n",
       "    </tr>\n",
       "    <tr>\n",
       "      <th>3</th>\n",
       "      <td>2005</td>\n",
       "      <td>18.558932</td>\n",
       "      <td>9.002206</td>\n",
       "      <td>92.816496</td>\n",
       "      <td>19.508416</td>\n",
       "      <td>22.264085</td>\n",
       "    </tr>\n",
       "    <tr>\n",
       "      <th>4</th>\n",
       "      <td>2006</td>\n",
       "      <td>20.622965</td>\n",
       "      <td>10.132403</td>\n",
       "      <td>93.360834</td>\n",
       "      <td>21.045569</td>\n",
       "      <td>19.458675</td>\n",
       "    </tr>\n",
       "    <tr>\n",
       "      <th>5</th>\n",
       "      <td>2007</td>\n",
       "      <td>22.123088</td>\n",
       "      <td>12.004535</td>\n",
       "      <td>93.297133</td>\n",
       "      <td>24.697971</td>\n",
       "      <td>18.559631</td>\n",
       "    </tr>\n",
       "    <tr>\n",
       "      <th>6</th>\n",
       "      <td>2008</td>\n",
       "      <td>25.652782</td>\n",
       "      <td>13.504304</td>\n",
       "      <td>93.170653</td>\n",
       "      <td>23.901895</td>\n",
       "      <td>14.476435</td>\n",
       "    </tr>\n",
       "    <tr>\n",
       "      <th>7</th>\n",
       "      <td>2009</td>\n",
       "      <td>26.757016</td>\n",
       "      <td>18.360906</td>\n",
       "      <td>95.091877</td>\n",
       "      <td>27.200779</td>\n",
       "      <td>9.967356</td>\n",
       "    </tr>\n",
       "    <tr>\n",
       "      <th>8</th>\n",
       "      <td>2010</td>\n",
       "      <td>29.791100</td>\n",
       "      <td>22.189079</td>\n",
       "      <td>94.666618</td>\n",
       "      <td>26.666277</td>\n",
       "      <td>9.248786</td>\n",
       "    </tr>\n",
       "    <tr>\n",
       "      <th>9</th>\n",
       "      <td>2011</td>\n",
       "      <td>30.036327</td>\n",
       "      <td>23.265682</td>\n",
       "      <td>94.706065</td>\n",
       "      <td>30.353049</td>\n",
       "      <td>8.077819</td>\n",
       "    </tr>\n",
       "    <tr>\n",
       "      <th>10</th>\n",
       "      <td>2012</td>\n",
       "      <td>32.194717</td>\n",
       "      <td>25.968846</td>\n",
       "      <td>94.946061</td>\n",
       "      <td>32.239183</td>\n",
       "      <td>7.260614</td>\n",
       "    </tr>\n",
       "    <tr>\n",
       "      <th>11</th>\n",
       "      <td>2013</td>\n",
       "      <td>35.792858</td>\n",
       "      <td>30.743459</td>\n",
       "      <td>94.876887</td>\n",
       "      <td>36.730110</td>\n",
       "      <td>6.403895</td>\n",
       "    </tr>\n",
       "    <tr>\n",
       "      <th>12</th>\n",
       "      <td>2014</td>\n",
       "      <td>38.292015</td>\n",
       "      <td>34.392739</td>\n",
       "      <td>94.870630</td>\n",
       "      <td>38.109545</td>\n",
       "      <td>21.596406</td>\n",
       "    </tr>\n",
       "    <tr>\n",
       "      <th>13</th>\n",
       "      <td>2015</td>\n",
       "      <td>44.911120</td>\n",
       "      <td>39.177739</td>\n",
       "      <td>93.523252</td>\n",
       "      <td>43.745243</td>\n",
       "      <td>4.170072</td>\n",
       "    </tr>\n",
       "  </tbody>\n",
       "</table>\n",
       "</div>"
      ],
      "text/plain": [
       "     Año  Computadora   Internet  Televisión      Cable   Teléfono\n",
       "0   2001    11.777200   6.212087   91.897078  13.529983  40.331515\n",
       "1   2002    15.207573   7.455098   93.592413  15.375804  45.358014\n",
       "2   2004    18.001723   8.692415   91.689488  19.330399  24.740764\n",
       "3   2005    18.558932   9.002206   92.816496  19.508416  22.264085\n",
       "4   2006    20.622965  10.132403   93.360834  21.045569  19.458675\n",
       "5   2007    22.123088  12.004535   93.297133  24.697971  18.559631\n",
       "6   2008    25.652782  13.504304   93.170653  23.901895  14.476435\n",
       "7   2009    26.757016  18.360906   95.091877  27.200779   9.967356\n",
       "8   2010    29.791100  22.189079   94.666618  26.666277   9.248786\n",
       "9   2011    30.036327  23.265682   94.706065  30.353049   8.077819\n",
       "10  2012    32.194717  25.968846   94.946061  32.239183   7.260614\n",
       "11  2013    35.792858  30.743459   94.876887  36.730110   6.403895\n",
       "12  2014    38.292015  34.392739   94.870630  38.109545  21.596406\n",
       "13  2015    44.911120  39.177739   93.523252  43.745243   4.170072"
      ]
     },
     "execution_count": 2,
     "metadata": {},
     "output_type": "execute_result"
    }
   ],
   "source": [
    "df=pd.read_csv(r\"/home/amado/Escritorio/CSV/techogar.csv\")\n",
    "df"
   ]
  },
  {
   "cell_type": "code",
   "execution_count": 3,
   "id": "6e0868ee",
   "metadata": {},
   "outputs": [
    {
     "data": {
      "text/html": [
       "<div>\n",
       "<style scoped>\n",
       "    .dataframe tbody tr th:only-of-type {\n",
       "        vertical-align: middle;\n",
       "    }\n",
       "\n",
       "    .dataframe tbody tr th {\n",
       "        vertical-align: top;\n",
       "    }\n",
       "\n",
       "    .dataframe thead th {\n",
       "        text-align: right;\n",
       "    }\n",
       "</style>\n",
       "<table border=\"1\" class=\"dataframe\">\n",
       "  <thead>\n",
       "    <tr style=\"text-align: right;\">\n",
       "      <th></th>\n",
       "      <th>Año</th>\n",
       "      <th>Computadora</th>\n",
       "      <th>Internet</th>\n",
       "      <th>Televisión</th>\n",
       "      <th>Cable</th>\n",
       "      <th>Teléfono</th>\n",
       "    </tr>\n",
       "  </thead>\n",
       "  <tbody>\n",
       "    <tr>\n",
       "      <th>Año</th>\n",
       "      <td>1.000000</td>\n",
       "      <td>0.983277</td>\n",
       "      <td>0.959928</td>\n",
       "      <td>0.732010</td>\n",
       "      <td>0.978322</td>\n",
       "      <td>-0.832313</td>\n",
       "    </tr>\n",
       "    <tr>\n",
       "      <th>Computadora</th>\n",
       "      <td>0.983277</td>\n",
       "      <td>1.000000</td>\n",
       "      <td>0.981910</td>\n",
       "      <td>0.658765</td>\n",
       "      <td>0.989330</td>\n",
       "      <td>-0.775615</td>\n",
       "    </tr>\n",
       "    <tr>\n",
       "      <th>Internet</th>\n",
       "      <td>0.959928</td>\n",
       "      <td>0.981910</td>\n",
       "      <td>1.000000</td>\n",
       "      <td>0.664825</td>\n",
       "      <td>0.979484</td>\n",
       "      <td>-0.691533</td>\n",
       "    </tr>\n",
       "    <tr>\n",
       "      <th>Televisión</th>\n",
       "      <td>0.732010</td>\n",
       "      <td>0.658765</td>\n",
       "      <td>0.664825</td>\n",
       "      <td>1.000000</td>\n",
       "      <td>0.640515</td>\n",
       "      <td>-0.593303</td>\n",
       "    </tr>\n",
       "    <tr>\n",
       "      <th>Cable</th>\n",
       "      <td>0.978322</td>\n",
       "      <td>0.989330</td>\n",
       "      <td>0.979484</td>\n",
       "      <td>0.640515</td>\n",
       "      <td>1.000000</td>\n",
       "      <td>-0.763601</td>\n",
       "    </tr>\n",
       "    <tr>\n",
       "      <th>Teléfono</th>\n",
       "      <td>-0.832313</td>\n",
       "      <td>-0.775615</td>\n",
       "      <td>-0.691533</td>\n",
       "      <td>-0.593303</td>\n",
       "      <td>-0.763601</td>\n",
       "      <td>1.000000</td>\n",
       "    </tr>\n",
       "  </tbody>\n",
       "</table>\n",
       "</div>"
      ],
      "text/plain": [
       "                  Año  Computadora  Internet  Televisión     Cable  Teléfono\n",
       "Año          1.000000     0.983277  0.959928    0.732010  0.978322 -0.832313\n",
       "Computadora  0.983277     1.000000  0.981910    0.658765  0.989330 -0.775615\n",
       "Internet     0.959928     0.981910  1.000000    0.664825  0.979484 -0.691533\n",
       "Televisión   0.732010     0.658765  0.664825    1.000000  0.640515 -0.593303\n",
       "Cable        0.978322     0.989330  0.979484    0.640515  1.000000 -0.763601\n",
       "Teléfono    -0.832313    -0.775615 -0.691533   -0.593303 -0.763601  1.000000"
      ]
     },
     "execution_count": 3,
     "metadata": {},
     "output_type": "execute_result"
    }
   ],
   "source": [
    "df.corr()"
   ]
  },
  {
   "cell_type": "code",
   "execution_count": 4,
   "id": "0c1e21f6",
   "metadata": {},
   "outputs": [
    {
     "data": {
      "text/html": [
       "<div>\n",
       "<style scoped>\n",
       "    .dataframe tbody tr th:only-of-type {\n",
       "        vertical-align: middle;\n",
       "    }\n",
       "\n",
       "    .dataframe tbody tr th {\n",
       "        vertical-align: top;\n",
       "    }\n",
       "\n",
       "    .dataframe thead th {\n",
       "        text-align: right;\n",
       "    }\n",
       "</style>\n",
       "<table border=\"1\" class=\"dataframe\">\n",
       "  <thead>\n",
       "    <tr style=\"text-align: right;\">\n",
       "      <th></th>\n",
       "      <th>Año</th>\n",
       "      <th>Computadora</th>\n",
       "      <th>Internet</th>\n",
       "      <th>Televisión</th>\n",
       "      <th>Cable</th>\n",
       "      <th>Teléfono</th>\n",
       "    </tr>\n",
       "  </thead>\n",
       "  <tbody>\n",
       "    <tr>\n",
       "      <th>0</th>\n",
       "      <td>2001</td>\n",
       "      <td>11.777200</td>\n",
       "      <td>6.212087</td>\n",
       "      <td>91.897078</td>\n",
       "      <td>13.529983</td>\n",
       "      <td>40.331515</td>\n",
       "    </tr>\n",
       "    <tr>\n",
       "      <th>1</th>\n",
       "      <td>2002</td>\n",
       "      <td>15.207573</td>\n",
       "      <td>7.455098</td>\n",
       "      <td>93.592413</td>\n",
       "      <td>15.375804</td>\n",
       "      <td>45.358014</td>\n",
       "    </tr>\n",
       "    <tr>\n",
       "      <th>2</th>\n",
       "      <td>2004</td>\n",
       "      <td>18.001723</td>\n",
       "      <td>8.692415</td>\n",
       "      <td>91.689488</td>\n",
       "      <td>19.330399</td>\n",
       "      <td>24.740764</td>\n",
       "    </tr>\n",
       "    <tr>\n",
       "      <th>3</th>\n",
       "      <td>2005</td>\n",
       "      <td>18.558932</td>\n",
       "      <td>9.002206</td>\n",
       "      <td>92.816496</td>\n",
       "      <td>19.508416</td>\n",
       "      <td>22.264085</td>\n",
       "    </tr>\n",
       "    <tr>\n",
       "      <th>4</th>\n",
       "      <td>2006</td>\n",
       "      <td>20.622965</td>\n",
       "      <td>10.132403</td>\n",
       "      <td>93.360834</td>\n",
       "      <td>21.045569</td>\n",
       "      <td>19.458675</td>\n",
       "    </tr>\n",
       "  </tbody>\n",
       "</table>\n",
       "</div>"
      ],
      "text/plain": [
       "    Año  Computadora   Internet  Televisión      Cable   Teléfono\n",
       "0  2001    11.777200   6.212087   91.897078  13.529983  40.331515\n",
       "1  2002    15.207573   7.455098   93.592413  15.375804  45.358014\n",
       "2  2004    18.001723   8.692415   91.689488  19.330399  24.740764\n",
       "3  2005    18.558932   9.002206   92.816496  19.508416  22.264085\n",
       "4  2006    20.622965  10.132403   93.360834  21.045569  19.458675"
      ]
     },
     "execution_count": 4,
     "metadata": {},
     "output_type": "execute_result"
    }
   ],
   "source": [
    "df.head()"
   ]
  },
  {
   "cell_type": "code",
   "execution_count": 56,
   "id": "597f3535",
   "metadata": {},
   "outputs": [],
   "source": [
    "from sklearn.decomposition import PCA\n",
    "from sklearn.preprocessing import StandardScaler"
   ]
  },
  {
   "cell_type": "code",
   "execution_count": 98,
   "id": "5ef61199",
   "metadata": {},
   "outputs": [],
   "source": [
    "pca=PCA(n_components=1)\n",
    "X=df.iloc[:,[0,2]]\n",
    "X=pca.fit_transform(X)\n",
    "Y=df.Computadora\n"
   ]
  },
  {
   "cell_type": "code",
   "execution_count": 99,
   "id": "1dc7f23d",
   "metadata": {},
   "outputs": [],
   "source": [
    "\n",
    "from sklearn.linear_model import LinearRegression"
   ]
  },
  {
   "cell_type": "code",
   "execution_count": 100,
   "id": "aefad2c2",
   "metadata": {},
   "outputs": [
    {
     "data": {
      "text/plain": [
       "LinearRegression()"
      ]
     },
     "execution_count": 100,
     "metadata": {},
     "output_type": "execute_result"
    }
   ],
   "source": [
    "\n",
    "\n",
    "reg=LinearRegression()\n",
    "reg.fit(X,Y)"
   ]
  },
  {
   "cell_type": "code",
   "execution_count": 101,
   "id": "e1d592b9",
   "metadata": {},
   "outputs": [
    {
     "data": {
      "text/plain": [
       "0.9738820052028009"
      ]
     },
     "execution_count": 101,
     "metadata": {},
     "output_type": "execute_result"
    }
   ],
   "source": [
    "reg.score(X,Y)"
   ]
  },
  {
   "cell_type": "code",
   "execution_count": 104,
   "id": "9a812312",
   "metadata": {},
   "outputs": [
    {
     "data": {
      "image/png": "[encoded data removed]",
      "text/plain": [
       "<Figure size 432x288 with 1 Axes>"
      ]
     },
     "metadata": {
      "needs_background": "light"
     },
     "output_type": "display_data"
    }
   ],
   "source": [
    "pred=reg.predict(X)\n",
    "import matplotlib.pyplot as plt\n",
    "plt.scatter(X,Y)\n",
    "plt.plot(X,pred)\n",
    "plt.show()"
   ]
  },
  {
   "cell_type": "code",
   "execution_count": 105,
   "id": "26b1db4e",
   "metadata": {},
   "outputs": [
    {
     "data": {
      "text/plain": [
       "0.9738820052028009"
      ]
     },
     "execution_count": 105,
     "metadata": {},
     "output_type": "execute_result"
    }
   ],
   "source": [
    "from sklearn.metrics import r2_score\n",
    "r2_score(Y,pred)"
   ]
  },
  {
   "cell_type": "code",
   "execution_count": null,
   "id": "89f25eb2",
   "metadata": {},
   "outputs": [],
   "source": []
  }
 ],
 "metadata": {
  "kernelspec": {
   "display_name": "Python 3",
   "language": "python",
   "name": "python3"
  },
  "language_info": {
   "codemirror_mode": {
    "name": "ipython",
    "version": 3
   },
   "file_extension": ".py",
   "mimetype": "text/x-python",
   "name": "python",
   "nbconvert_exporter": "python",
   "pygments_lexer": "ipython3",
   "version": "3.8.5"
  }
 },
 "nbformat": 4,
 "nbformat_minor": 5
}
